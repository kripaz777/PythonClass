{
 "cells": [
  {
   "cell_type": "code",
   "execution_count": 1,
   "metadata": {},
   "outputs": [
    {
     "name": "stdout",
     "output_type": "stream",
     "text": [
      "Hello World\n"
     ]
    }
   ],
   "source": [
    "class Hello:        #class\n",
    "    print(\"Hello World\")\n",
    "    \n",
    "    \n",
    "obj = Hello()         #object"
   ]
  },
  {
   "cell_type": "code",
   "execution_count": 4,
   "metadata": {},
   "outputs": [
    {
     "name": "stdout",
     "output_type": "stream",
     "text": [
      "Hello World\n"
     ]
    }
   ],
   "source": [
    "class Hello:                 #class\n",
    "    def hello(self):             #method\n",
    "        print(\"Hello World\")\n",
    "        \n",
    "        \n",
    "obj = Hello()                 #object\n",
    "obj.hello()"
   ]
  },
  {
   "cell_type": "code",
   "execution_count": 5,
   "metadata": {},
   "outputs": [
    {
     "name": "stdout",
     "output_type": "stream",
     "text": [
      "Hello World\n"
     ]
    }
   ],
   "source": [
    "class Hello:                 #class\n",
    "    @staticmethod\n",
    "    def hello():             #method\n",
    "        print(\"Hello World\")\n",
    "        \n",
    "        \n",
    "obj = Hello()                 #object\n",
    "obj.hello()"
   ]
  },
  {
   "cell_type": "code",
   "execution_count": 7,
   "metadata": {},
   "outputs": [
    {
     "name": "stdout",
     "output_type": "stream",
     "text": [
      "Enter p = 10000\n",
      "Enter t = 3.5\n",
      "Enter r = 10.5\n",
      "3675.0\n"
     ]
    }
   ],
   "source": [
    "class Cal:\n",
    "    def cal(self,p,t,r):\n",
    "        i = p*t*r/100\n",
    "        print(i)\n",
    "        \n",
    "p = int(input(\"Enter p = \"))\n",
    "t = float(input(\"Enter t = \"))\n",
    "r = float(input(\"Enter r = \"))\n",
    "obj = Cal()\n",
    "obj.cal(p,t,r)"
   ]
  },
  {
   "cell_type": "code",
   "execution_count": 8,
   "metadata": {},
   "outputs": [
    {
     "name": "stdout",
     "output_type": "stream",
     "text": [
      "Enter l = 100\n",
      "Enter b = 20\n",
      "Enter h = 10\n",
      "2000.0\n",
      "20000.0\n"
     ]
    }
   ],
   "source": [
    "class Cal:\n",
    "    def area(self,l,b):\n",
    "        a = l*b\n",
    "        print(a)\n",
    "    def volume(self,l,b,h):\n",
    "        v = l*b*h\n",
    "        print(v)\n",
    "        \n",
    "        \n",
    "l = int(input(\"Enter l = \"))\n",
    "b = float(input(\"Enter b = \"))\n",
    "h = float(input(\"Enter h = \"))\n",
    "\n",
    "obj = Cal()\n",
    "obj.area(l,b)\n",
    "obj.volume(l,b,h)"
   ]
  },
  {
   "cell_type": "code",
   "execution_count": 9,
   "metadata": {},
   "outputs": [
    {
     "name": "stdout",
     "output_type": "stream",
     "text": [
      "Enter p = 1000\n",
      "Enter t = 5\n",
      "Enter r = 3\n",
      "150.0\n"
     ]
    }
   ],
   "source": [
    "class Cal:\n",
    "    def __init__(self,p,t,r):\n",
    "        self.p = p\n",
    "        self.t = t\n",
    "        self.r = r\n",
    "        \n",
    "    def cal(self):\n",
    "        i = self.p*self.t*self.r/100\n",
    "        print(i)\n",
    "        \n",
    "p = int(input(\"Enter p = \"))\n",
    "t = float(input(\"Enter t = \"))\n",
    "r = float(input(\"Enter r = \"))\n",
    "obj = Cal(p,t,r)\n",
    "obj.cal()"
   ]
  },
  {
   "cell_type": "code",
   "execution_count": 10,
   "metadata": {},
   "outputs": [
    {
     "name": "stdout",
     "output_type": "stream",
     "text": [
      "Enter l = 1000\n",
      "Enter b = 400\n",
      "Enter h = 200\n",
      "400000.0\n",
      "80000000.0\n"
     ]
    }
   ],
   "source": [
    "class Cal:\n",
    "    def __init__(self,l,b,h):\n",
    "        self.ll = l\n",
    "        self.bb = b\n",
    "        self.hh = h\n",
    "    def area(self):\n",
    "        a = self.ll*self.bb\n",
    "        print(a)\n",
    "    def volume(this):\n",
    "        v = this.ll*this.bb*this.hh\n",
    "        print(v)\n",
    "        \n",
    "        \n",
    "l = int(input(\"Enter l = \"))\n",
    "b = float(input(\"Enter b = \"))\n",
    "h = float(input(\"Enter h = \"))\n",
    "\n",
    "obj = Cal(l,b,h)\n",
    "obj.area()\n",
    "obj.volume()"
   ]
  },
  {
   "cell_type": "code",
   "execution_count": 13,
   "metadata": {},
   "outputs": [
    {
     "name": "stdout",
     "output_type": "stream",
     "text": [
      "Enter l = 100\n",
      "Enter b = 2\n",
      "Enter h = 3\n",
      "200.0\n",
      "600.0\n"
     ]
    }
   ],
   "source": [
    "class Cal:\n",
    "    def __init__(self,l,b):\n",
    "        self.ll = l\n",
    "        self.bb = b\n",
    "    def area(self):\n",
    "        a = self.ll*self.bb\n",
    "        print(a)\n",
    "    def volume(this,h):\n",
    "        v = this.ll*this.bb*h\n",
    "        print(v)\n",
    "        \n",
    "        \n",
    "l = int(input(\"Enter l = \"))\n",
    "b = float(input(\"Enter b = \"))\n",
    "h = float(input(\"Enter h = \"))\n",
    "\n",
    "obj = Cal(l,b)\n",
    "obj.area()\n",
    "obj.volume(h)"
   ]
  },
  {
   "cell_type": "code",
   "execution_count": null,
   "metadata": {},
   "outputs": [],
   "source": []
  }
 ],
 "metadata": {
  "kernelspec": {
   "display_name": "Python 3 (ipykernel)",
   "language": "python",
   "name": "python3"
  },
  "language_info": {
   "codemirror_mode": {
    "name": "ipython",
    "version": 3
   },
   "file_extension": ".py",
   "mimetype": "text/x-python",
   "name": "python",
   "nbconvert_exporter": "python",
   "pygments_lexer": "ipython3",
   "version": "3.7.1"
  }
 },
 "nbformat": 4,
 "nbformat_minor": 2
}
