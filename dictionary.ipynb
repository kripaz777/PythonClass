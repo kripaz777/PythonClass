{
 "cells": [
  {
   "cell_type": "code",
   "execution_count": 1,
   "metadata": {},
   "outputs": [],
   "source": [
    "# dict\n",
    "# -Indexed\n",
    "# -ordered\n",
    "# -Multiple Value\n",
    "# -Mutable datatype"
   ]
  },
  {
   "cell_type": "code",
   "execution_count": 2,
   "metadata": {},
   "outputs": [],
   "source": [
    "# #d = {}\n",
    "# #d = dict()\n",
    "# d = {<key>:<value>,<key>:<value>,..}"
   ]
  },
  {
   "cell_type": "code",
   "execution_count": 3,
   "metadata": {},
   "outputs": [
    {
     "name": "stdout",
     "output_type": "stream",
     "text": [
      "{'a': 'Apple', 'b': 'Ball', 'c': 'Cat'}\n"
     ]
    }
   ],
   "source": [
    "d = {'a':'Apple','b':'Ball','c':'Cat'}\n",
    "print(d)"
   ]
  },
  {
   "cell_type": "code",
   "execution_count": 7,
   "metadata": {},
   "outputs": [
    {
     "data": {
      "text/plain": [
       "'Cat'"
      ]
     },
     "execution_count": 7,
     "metadata": {},
     "output_type": "execute_result"
    }
   ],
   "source": [
    "d['c']"
   ]
  },
  {
   "cell_type": "code",
   "execution_count": 8,
   "metadata": {},
   "outputs": [
    {
     "data": {
      "text/plain": [
       "3"
      ]
     },
     "execution_count": 8,
     "metadata": {},
     "output_type": "execute_result"
    }
   ],
   "source": [
    "len(d)"
   ]
  },
  {
   "cell_type": "code",
   "execution_count": 9,
   "metadata": {},
   "outputs": [
    {
     "data": {
      "text/plain": [
       "{'a': 'apple', 'b': 'Ball', 'c': 'Cat'}"
      ]
     },
     "execution_count": 9,
     "metadata": {},
     "output_type": "execute_result"
    }
   ],
   "source": [
    "d = {'a':'Apple','b':'Ball','c':'Cat'}\n",
    "d['a'] = 'apple'\n",
    "\n",
    "d"
   ]
  },
  {
   "cell_type": "code",
   "execution_count": 10,
   "metadata": {},
   "outputs": [
    {
     "data": {
      "text/plain": [
       "{'a': 'Apple', 'b': 'Ball', 'c': 'Cat', 'd': 'dog'}"
      ]
     },
     "execution_count": 10,
     "metadata": {},
     "output_type": "execute_result"
    }
   ],
   "source": [
    "d = {'a':'Apple','b':'Ball','c':'Cat'}\n",
    "d['d'] = 'dog'\n",
    "d"
   ]
  },
  {
   "cell_type": "code",
   "execution_count": 11,
   "metadata": {},
   "outputs": [
    {
     "data": {
      "text/plain": [
       "{'a': 'Apple', 'b': 'Ball', 'c': 'Cat'}"
      ]
     },
     "execution_count": 11,
     "metadata": {},
     "output_type": "execute_result"
    }
   ],
   "source": [
    "d = {}\n",
    "d['a'] = 'Apple'\n",
    "d['b'] = 'Ball'\n",
    "d['c'] = 'Cat'\n",
    "d"
   ]
  },
  {
   "cell_type": "code",
   "execution_count": 13,
   "metadata": {},
   "outputs": [
    {
     "name": "stdout",
     "output_type": "stream",
     "text": [
      "Enter n = 2\n",
      "Enter name = Ram\n",
      "Enter phone = 9808667654\n",
      "Enter name = Shyam\n",
      "Enter phone = 9808667654\n",
      "{'Ram': '9808667654', 'Shyam': '9808667654'}\n"
     ]
    }
   ],
   "source": [
    "d = {}\n",
    "n = int(input(\"Enter n = \"))\n",
    "for i in range(n):\n",
    "    name = input(\"Enter name = \")\n",
    "    phone = input(\"Enter phone = \")\n",
    "    d[name] = phone\n",
    "    \n",
    "print(d)"
   ]
  },
  {
   "cell_type": "code",
   "execution_count": 14,
   "metadata": {},
   "outputs": [
    {
     "name": "stdout",
     "output_type": "stream",
     "text": [
      "Ram\n",
      "Shyam\n"
     ]
    }
   ],
   "source": [
    "for i in d:\n",
    "    print(i)"
   ]
  },
  {
   "cell_type": "code",
   "execution_count": 15,
   "metadata": {},
   "outputs": [
    {
     "name": "stdout",
     "output_type": "stream",
     "text": [
      "9808667654\n",
      "9808667654\n"
     ]
    }
   ],
   "source": [
    "for i in d.values():\n",
    "    print(i)"
   ]
  },
  {
   "cell_type": "code",
   "execution_count": 16,
   "metadata": {},
   "outputs": [
    {
     "name": "stdout",
     "output_type": "stream",
     "text": [
      "('Ram', '9808667654')\n",
      "('Shyam', '9808667654')\n"
     ]
    }
   ],
   "source": [
    "for i in d.items():\n",
    "    print(i)"
   ]
  },
  {
   "cell_type": "code",
   "execution_count": 22,
   "metadata": {},
   "outputs": [
    {
     "data": {
      "text/plain": [
       "[('Ram', '9808667654'), ('Shyam', '9808667654')]"
      ]
     },
     "execution_count": 22,
     "metadata": {},
     "output_type": "execute_result"
    }
   ],
   "source": [
    "x = []\n",
    "d = {'Ram': '9808667654', 'Shyam': '9808667654'}\n",
    "for i in d.items():\n",
    "    x.append(i)\n",
    "    \n",
    "x"
   ]
  },
  {
   "cell_type": "code",
   "execution_count": 23,
   "metadata": {},
   "outputs": [
    {
     "data": {
      "text/plain": [
       "{'Ram': '9808667654', 'Shyam': '9808667654'}"
      ]
     },
     "execution_count": 23,
     "metadata": {},
     "output_type": "execute_result"
    }
   ],
   "source": [
    "dict(x)"
   ]
  },
  {
   "cell_type": "code",
   "execution_count": 25,
   "metadata": {},
   "outputs": [
    {
     "data": {
      "text/plain": [
       "{'Ram': '9808667654', 'Shyam': '9808667654', 'Hari': 9867667654}"
      ]
     },
     "execution_count": 25,
     "metadata": {},
     "output_type": "execute_result"
    }
   ],
   "source": [
    "d = {'Ram': '9808667654', 'Shyam': '9808667654'}\n",
    "c = {'Hari':9867667654}\n",
    "d.update(c)\n",
    "d"
   ]
  },
  {
   "cell_type": "code",
   "execution_count": 26,
   "metadata": {},
   "outputs": [
    {
     "data": {
      "text/plain": [
       "{0: '9808667654', 1: '9808667654'}"
      ]
     },
     "execution_count": 26,
     "metadata": {},
     "output_type": "execute_result"
    }
   ],
   "source": [
    "d = {0: '9808667654', 1: '9808667654'}\n",
    "d"
   ]
  },
  {
   "cell_type": "code",
   "execution_count": 31,
   "metadata": {},
   "outputs": [
    {
     "data": {
      "text/plain": [
       "{('Ram', 'Shyam'): '9808667654', 1: '9808667654'}"
      ]
     },
     "execution_count": 31,
     "metadata": {},
     "output_type": "execute_result"
    }
   ],
   "source": [
    "d = {('Ram','Shyam'): '9808667654', 1: '9808667654'}\n",
    "d"
   ]
  },
  {
   "cell_type": "code",
   "execution_count": 28,
   "metadata": {},
   "outputs": [
    {
     "ename": "TypeError",
     "evalue": "unhashable type: 'list'",
     "output_type": "error",
     "traceback": [
      "\u001b[1;31m---------------------------------------------------------------------------\u001b[0m",
      "\u001b[1;31mTypeError\u001b[0m                                 Traceback (most recent call last)",
      "\u001b[1;32m~\\AppData\\Local\\Temp/ipykernel_15052/2708923798.py\u001b[0m in \u001b[0;36m<module>\u001b[1;34m\u001b[0m\n\u001b[1;32m----> 1\u001b[1;33m \u001b[0md\u001b[0m \u001b[1;33m=\u001b[0m \u001b[1;33m{\u001b[0m\u001b[1;33m[\u001b[0m\u001b[1;34m'Ram,Shyam'\u001b[0m\u001b[1;33m]\u001b[0m\u001b[1;33m:\u001b[0m \u001b[1;34m'9808667654'\u001b[0m\u001b[1;33m,\u001b[0m \u001b[1;36m1\u001b[0m\u001b[1;33m:\u001b[0m \u001b[1;34m'9808667654'\u001b[0m\u001b[1;33m}\u001b[0m\u001b[1;33m\u001b[0m\u001b[1;33m\u001b[0m\u001b[0m\n\u001b[0m\u001b[0;32m      2\u001b[0m \u001b[0md\u001b[0m\u001b[1;33m\u001b[0m\u001b[1;33m\u001b[0m\u001b[0m\n",
      "\u001b[1;31mTypeError\u001b[0m: unhashable type: 'list'"
     ]
    }
   ],
   "source": [
    "d = {['Ram,Shyam']: '9808667654', 1: '9808667654'}\n",
    "d"
   ]
  },
  {
   "cell_type": "code",
   "execution_count": 30,
   "metadata": {},
   "outputs": [
    {
     "data": {
      "text/plain": [
       "'9808667654'"
      ]
     },
     "execution_count": 30,
     "metadata": {},
     "output_type": "execute_result"
    }
   ],
   "source": [
    "d = {('Ram','Shyam'): '9808667654', 1: '9808667654'}\n",
    "d[('Ram','Shyam')]"
   ]
  },
  {
   "cell_type": "code",
   "execution_count": 35,
   "metadata": {},
   "outputs": [
    {
     "name": "stdout",
     "output_type": "stream",
     "text": [
      "{'Shyam': '9808667654', 'Hari': 9867667654}\n"
     ]
    }
   ],
   "source": [
    "# del pop()\n",
    "d = {'Ram': '9808667654', 'Shyam': '9808667654', 'Hari': 9867667654}\n",
    "del d['Ram']\n",
    "print(d)"
   ]
  },
  {
   "cell_type": "code",
   "execution_count": 36,
   "metadata": {},
   "outputs": [
    {
     "data": {
      "text/plain": [
       "{'Shyam': '9808667654', 'Hari': 9867667654}"
      ]
     },
     "execution_count": 36,
     "metadata": {},
     "output_type": "execute_result"
    }
   ],
   "source": [
    "d = {'Ram': '9808667654', 'Shyam': '9808667654', 'Hari': 9867667654}\n",
    "d.pop('Ram')\n",
    "d"
   ]
  },
  {
   "cell_type": "code",
   "execution_count": 37,
   "metadata": {},
   "outputs": [
    {
     "data": {
      "text/plain": [
       "{}"
      ]
     },
     "execution_count": 37,
     "metadata": {},
     "output_type": "execute_result"
    }
   ],
   "source": [
    "d = {'Ram': '9808667654', 'Shyam': '9808667654', 'Hari': 9867667654}\n",
    "d.clear()\n",
    "d"
   ]
  },
  {
   "cell_type": "code",
   "execution_count": 39,
   "metadata": {},
   "outputs": [
    {
     "name": "stdout",
     "output_type": "stream",
     "text": [
      "{'Ram': [9808667654, 9807887654], 'Shyam': [9808667654, 9867667543], 'Hari': [9867667654, 9808667654]}\n"
     ]
    }
   ],
   "source": [
    "#list inside dictionary\n",
    "d = {'Ram': [9808667654,9807887654],\n",
    "     'Shyam': [9808667654,9867667543],\n",
    "     'Hari': [9867667654,9808667654]}\n",
    "print(d)"
   ]
  },
  {
   "cell_type": "code",
   "execution_count": 41,
   "metadata": {},
   "outputs": [
    {
     "name": "stdout",
     "output_type": "stream",
     "text": [
      "[9808667654, 9807887654]\n",
      "9808667654\n"
     ]
    }
   ],
   "source": [
    "print(d['Ram'])\n",
    "print(d['Ram'][0])"
   ]
  },
  {
   "cell_type": "code",
   "execution_count": 42,
   "metadata": {},
   "outputs": [
    {
     "name": "stdout",
     "output_type": "stream",
     "text": [
      "Enter n = 2\n",
      "Enter name = Ram\n",
      "Enter ntc_phone = 9867667654\n",
      "Enter ncell_phone = 9808667654\n",
      "Enter name = Shyam\n",
      "Enter ntc_phone = 9867667654\n",
      "Enter ncell_phone = 9808667654\n"
     ]
    },
    {
     "data": {
      "text/plain": [
       "{'Ram': [9867667654, 9808667654], 'Shyam': [9867667654, 9808667654]}"
      ]
     },
     "execution_count": 42,
     "metadata": {},
     "output_type": "execute_result"
    }
   ],
   "source": [
    "d ={}\n",
    "n = int(input(\"Enter n = \"))\n",
    "for i in range(n):\n",
    "    name = input(\"Enter name = \")\n",
    "    ntc_phone = int(input(\"Enter ntc_phone = \"))\n",
    "    ncell_phone = int(input(\"Enter ncell_phone = \"))\n",
    "    d[name] = [ntc_phone,ncell_phone]\n",
    "    \n",
    "d"
   ]
  },
  {
   "cell_type": "code",
   "execution_count": 43,
   "metadata": {},
   "outputs": [
    {
     "name": "stdout",
     "output_type": "stream",
     "text": [
      "('Ram', [9867667654, 9808667654])\n",
      "('Shyam', [9867667654, 9808667654])\n"
     ]
    }
   ],
   "source": [
    "a = {'Ram': [9867667654, 9808667654], 'Shyam': [9867667654, 9808667654]}\n",
    "for i in a.items():\n",
    "    print(i)"
   ]
  },
  {
   "cell_type": "code",
   "execution_count": 44,
   "metadata": {},
   "outputs": [
    {
     "data": {
      "text/plain": [
       "{'Ram': [9867667654, 9808667654],\n",
       " 'Shyam': [9867667654, 9808667654],\n",
       " 'Hari': [9876556543, 9808776765]}"
      ]
     },
     "execution_count": 44,
     "metadata": {},
     "output_type": "execute_result"
    }
   ],
   "source": [
    "a = {'Ram': [9867667654, 9808667654], 'Shyam': [9867667654, 9808667654]}\n",
    "a['Hari'] = [9876556543,9808776765]\n",
    "a"
   ]
  },
  {
   "cell_type": "code",
   "execution_count": 49,
   "metadata": {},
   "outputs": [
    {
     "data": {
      "text/plain": [
       "9867667654"
      ]
     },
     "execution_count": 49,
     "metadata": {},
     "output_type": "execute_result"
    }
   ],
   "source": [
    "a = {'Ram': [9867667654, 9808667654], 'Shyam': [9867667654, 9808667654]}\n",
    "a['Ram'][0]"
   ]
  },
  {
   "cell_type": "code",
   "execution_count": 51,
   "metadata": {},
   "outputs": [
    {
     "data": {
      "text/plain": [
       "{'Ram': [98000000, 9808667654], 'Shyam': [9867667654, 9808667654]}"
      ]
     },
     "execution_count": 51,
     "metadata": {},
     "output_type": "execute_result"
    }
   ],
   "source": [
    "a = {'Ram': [9867667654, 9808667654], 'Shyam': [9867667654, 9808667654]}\n",
    "a['Ram'][0]= 98000000\n",
    "a"
   ]
  },
  {
   "cell_type": "code",
   "execution_count": 53,
   "metadata": {},
   "outputs": [
    {
     "data": {
      "text/plain": [
       "{'Ram': [9867667654, 9808667654, 9878778765],\n",
       " 'Shyam': [9867667654, 9808667654]}"
      ]
     },
     "execution_count": 53,
     "metadata": {},
     "output_type": "execute_result"
    }
   ],
   "source": [
    "a = {'Ram': [9867667654, 9808667654], 'Shyam': [9867667654, 9808667654]}\n",
    "a['Ram'].append(9878778765)\n",
    "a"
   ]
  },
  {
   "cell_type": "code",
   "execution_count": null,
   "metadata": {},
   "outputs": [],
   "source": [
    "# a = {'name':[],'age':[],'add':[]}\n",
    "name = []\n",
    "age = []\n",
    "add = []\n",
    "n = input(\"Enter n = \")\n",
    "for i in range(n):\n",
    "    na = input(\"Enter name = \")\n",
    "    ag = int(input(\"Enter age = \"))\n",
    "    ad = input(\"Enter add = \")\n",
    "    name.append(na)\n",
    "    age.append(ag)\n",
    "    add.append(ad)\n",
    "    \n",
    "a = {'name':name,'age':age,'address':add}\n",
    "a"
   ]
  },
  {
   "cell_type": "code",
   "execution_count": 1,
   "metadata": {},
   "outputs": [
    {
     "data": {
      "text/plain": [
       "[{'name': 'Ram', 'age': 34, 'add': 'Kathmandu'},\n",
       " {'name': 'Shyam', 'age': 56, 'add': 'Bhaktapur'},\n",
       " {'name': 'Hari', 'age': 67, 'add': 'Lalitpur'}]"
      ]
     },
     "execution_count": 1,
     "metadata": {},
     "output_type": "execute_result"
    }
   ],
   "source": [
    "# dict inside list\n",
    "l = [{'name':'Ram','age':34,'add':'Kathmandu'},\n",
    "    {'name':'Shyam','age':56,'add':'Bhaktapur'},\n",
    "    {'name':'Hari','age':67,'add':'Lalitpur'}]\n",
    "l"
   ]
  },
  {
   "cell_type": "code",
   "execution_count": 2,
   "metadata": {},
   "outputs": [
    {
     "name": "stdout",
     "output_type": "stream",
     "text": [
      "Enter n = 2\n",
      "Enter name = Ram\n",
      "Enter age = 34\n",
      "Enter add = Kathmandu\n",
      "Enter name = Shyam\n",
      "Enter age = 89\n",
      "Enter add = Bhaktapur\n",
      "[{'name': 'Ram', 'age': 34, 'add': 'Kathmandu'}, {'name': 'Shyam', 'age': 89, 'add': 'Bhaktapur'}]\n"
     ]
    }
   ],
   "source": [
    "data = []\n",
    "n = int(input(\"Enter n = \"))\n",
    "for i in range(n):\n",
    "    name = input(\"Enter name = \")\n",
    "    age = int(input(\"Enter age = \"))\n",
    "    add = input(\"Enter add = \")\n",
    "    info = {'name':name,'age':age,'add':add}\n",
    "    data.append(info)\n",
    "    \n",
    "print(data)"
   ]
  },
  {
   "cell_type": "code",
   "execution_count": 3,
   "metadata": {},
   "outputs": [
    {
     "data": {
      "text/plain": [
       "[{'name': 'Ram', 'age': 34, 'add': 'Kathmandu'},\n",
       " {'name': 'Shyam', 'age': 89, 'add': 'Bhaktapur'},\n",
       " {'name': 'Hari', 'age': 78, 'add': 'Lalitpur'}]"
      ]
     },
     "execution_count": 3,
     "metadata": {},
     "output_type": "execute_result"
    }
   ],
   "source": [
    "data = [{'name': 'Ram', 'age': 34, 'add': 'Kathmandu'}, \n",
    "        {'name': 'Shyam', 'age': 89, 'add': 'Bhaktapur'}]\n",
    "data.append({'name':'Hari','age':78,'add':'Lalitpur'})\n",
    "data"
   ]
  },
  {
   "cell_type": "code",
   "execution_count": 5,
   "metadata": {},
   "outputs": [
    {
     "name": "stdout",
     "output_type": "stream",
     "text": [
      "{'name': 'Ram', 'age': 34, 'add': 'Kathmandu'}\n"
     ]
    }
   ],
   "source": [
    "print(data[0])"
   ]
  },
  {
   "cell_type": "code",
   "execution_count": 6,
   "metadata": {},
   "outputs": [
    {
     "name": "stdout",
     "output_type": "stream",
     "text": [
      "Ram\n"
     ]
    }
   ],
   "source": [
    "print(data[0]['name'])"
   ]
  },
  {
   "cell_type": "code",
   "execution_count": 7,
   "metadata": {},
   "outputs": [
    {
     "data": {
      "text/plain": [
       "[{'name': 'Ramesh', 'age': 34, 'add': 'Kathmandu'},\n",
       " {'name': 'Shyam', 'age': 89, 'add': 'Bhaktapur'},\n",
       " {'name': 'Hari', 'age': 78, 'add': 'Lalitpur'}]"
      ]
     },
     "execution_count": 7,
     "metadata": {},
     "output_type": "execute_result"
    }
   ],
   "source": [
    "data[0]['name'] = 'Ramesh'\n",
    "data"
   ]
  },
  {
   "cell_type": "code",
   "execution_count": 8,
   "metadata": {},
   "outputs": [
    {
     "data": {
      "text/plain": [
       "[{'age': 34, 'add': 'Kathmandu'},\n",
       " {'name': 'Shyam', 'age': 89, 'add': 'Bhaktapur'},\n",
       " {'name': 'Hari', 'age': 78, 'add': 'Lalitpur'}]"
      ]
     },
     "execution_count": 8,
     "metadata": {},
     "output_type": "execute_result"
    }
   ],
   "source": [
    "del data[0]['name']\n",
    "data"
   ]
  },
  {
   "cell_type": "code",
   "execution_count": 9,
   "metadata": {},
   "outputs": [],
   "source": [
    "# dict inside dict"
   ]
  },
  {
   "cell_type": "code",
   "execution_count": 11,
   "metadata": {},
   "outputs": [
    {
     "data": {
      "text/plain": [
       "{1: {'name': 'Ram', 'age': 67, 'add': 'Kathandu'},\n",
       " 2: {'name': 'Shyam', 'age': 89, 'add': 'Lalitpur'},\n",
       " 3: {'name': 'Hari', 'age': 89, 'add': 'Bhaktapur'}}"
      ]
     },
     "execution_count": 11,
     "metadata": {},
     "output_type": "execute_result"
    }
   ],
   "source": [
    "a = {1:{'name':'Ram','age':67,'add':'Kathandu'},\n",
    "    2:{'name':'Shyam','age':89,'add':'Lalitpur'},\n",
    "    3:{'name':'Hari','age':89,'add':'Bhaktapur'}}\n",
    "a"
   ]
  },
  {
   "cell_type": "code",
   "execution_count": 13,
   "metadata": {},
   "outputs": [
    {
     "name": "stdout",
     "output_type": "stream",
     "text": [
      "Enter n = 2\n",
      "Enter name = Ram\n",
      "Enter age = 89\n",
      "Enter add = Kathmandu\n",
      "Enter name = Shyam\n",
      "Enter age = 45\n",
      "Enter add = Bhaktapur\n",
      "{1: {'name': 'Ram', 'age': 89, 'add': 'Kathmandu'}, 2: {'name': 'Shyam', 'age': 45, 'add': 'Bhaktapur'}}\n"
     ]
    }
   ],
   "source": [
    "d = {}\n",
    "n = int(input(\"Enter n = \"))\n",
    "for i in range(1,n+1):\n",
    "    name = input(\"Enter name = \")\n",
    "    age = int(input(\"Enter age = \"))\n",
    "    add = input(\"Enter add = \")\n",
    "    info = {'name':name,'age':age,'add':add}\n",
    "    d[i] = info\n",
    "    \n",
    "print(d)"
   ]
  },
  {
   "cell_type": "code",
   "execution_count": 14,
   "metadata": {},
   "outputs": [
    {
     "data": {
      "text/plain": [
       "{1: {'name': 'Ram', 'age': 89, 'add': 'Kathmandu'},\n",
       " 2: {'name': 'Shyam', 'age': 45, 'add': 'Bhaktapur'},\n",
       " 3: {'name': 'Hari', 'age': 89, 'add': 'Bhaktapur'}}"
      ]
     },
     "execution_count": 14,
     "metadata": {},
     "output_type": "execute_result"
    }
   ],
   "source": [
    "a = {1: {'name': 'Ram', 'age': 89, 'add': 'Kathmandu'}, \n",
    "     2: {'name': 'Shyam', 'age': 45, 'add': 'Bhaktapur'}}\n",
    "\n",
    "a[3] = {'name': 'Hari', 'age': 89, 'add': 'Bhaktapur'}\n",
    "a"
   ]
  },
  {
   "cell_type": "code",
   "execution_count": 16,
   "metadata": {},
   "outputs": [
    {
     "data": {
      "text/plain": [
       "{1: {'name': 'Akash', 'age': 89, 'add': 'Kathmandu'},\n",
       " 2: {'name': 'Shyam', 'age': 45, 'add': 'Bhaktapur'},\n",
       " 3: {'name': 'Hari', 'age': 89, 'add': 'Bhaktapur'}}"
      ]
     },
     "execution_count": 16,
     "metadata": {},
     "output_type": "execute_result"
    }
   ],
   "source": [
    "a[1]['name']= 'Akash'\n",
    "a"
   ]
  },
  {
   "cell_type": "code",
   "execution_count": 19,
   "metadata": {},
   "outputs": [
    {
     "name": "stdout",
     "output_type": "stream",
     "text": [
      "{'name': 'Akash', 'age': 89, 'add': 'Kathmandu'}\n",
      "{'name': 'Shyam', 'age': 45, 'add': 'Bhaktapur'}\n",
      "{'name': 'Hari', 'age': 89, 'add': 'Bhaktapur'}\n"
     ]
    }
   ],
   "source": [
    "for i in a.values():\n",
    "    print(i)"
   ]
  },
  {
   "cell_type": "code",
   "execution_count": 20,
   "metadata": {},
   "outputs": [
    {
     "name": "stdout",
     "output_type": "stream",
     "text": [
      "Enter phone = 9809887765\n",
      "Enter phone = 9809889876\n",
      "Enter phone = 9808667654\n",
      "{1: {'name': 'Akash', 'age': 89, 'add': 'Kathmandu', 'phone': 9809887765}, 2: {'name': 'Shyam', 'age': 45, 'add': 'Bhaktapur', 'phone': 9809889876}, 3: {'name': 'Hari', 'age': 89, 'add': 'Bhaktapur', 'phone': 9808667654}}\n"
     ]
    }
   ],
   "source": [
    "for i in a.values():\n",
    "    phone = int(input(\"Enter phone = \"))\n",
    "    i['phone'] = phone\n",
    "    \n",
    "print(a)"
   ]
  },
  {
   "cell_type": "code",
   "execution_count": 22,
   "metadata": {},
   "outputs": [
    {
     "name": "stdout",
     "output_type": "stream",
     "text": [
      "Enter ntc phone = 9878778765\n",
      "Enter ncell phone = 9808778765\n",
      "Enter ntc phone = 9876778765\n",
      "Enter ncell phone = 9808667654\n",
      "Enter ntc phone = 9867445432\n",
      "Enter ncell phone = 980833445\n",
      "{1: {'name': 'Akash', 'age': 89, 'add': 'Kathmandu', 'phone': [9878778765, 9808778765]}, 2: {'name': 'Shyam', 'age': 45, 'add': 'Bhaktapur', 'phone': [9876778765, 9808667654]}, 3: {'name': 'Hari', 'age': 89, 'add': 'Bhaktapur', 'phone': [9867445432, 980833445]}}\n"
     ]
    }
   ],
   "source": [
    "for i in a.values():\n",
    "    ntc_phone = int(input(\"Enter ntc phone = \"))\n",
    "    ncell_phone = int(input(\"Enter ncell phone = \"))\n",
    "    i['phone'] = [ntc_phone,ncell_phone]\n",
    "    \n",
    "print(a)"
   ]
  },
  {
   "cell_type": "code",
   "execution_count": 23,
   "metadata": {},
   "outputs": [
    {
     "data": {
      "text/plain": [
       "{1: {'phy': {'pr': 34, 'th': 45}, 'che': {'pr': 45, 'th': 89}, 'math': 89}}"
      ]
     },
     "execution_count": 23,
     "metadata": {},
     "output_type": "execute_result"
    }
   ],
   "source": [
    "# CRUD\n",
    "a = {1:{'phy':{'pr':34,'th':45},'che':{'pr':45,'th':89},'math':89}}\n",
    "a"
   ]
  },
  {
   "cell_type": "code",
   "execution_count": null,
   "metadata": {},
   "outputs": [],
   "source": [
    "# tuple,set"
   ]
  }
 ],
 "metadata": {
  "kernelspec": {
   "display_name": "Python 3 (ipykernel)",
   "language": "python",
   "name": "python3"
  },
  "language_info": {
   "codemirror_mode": {
    "name": "ipython",
    "version": 3
   },
   "file_extension": ".py",
   "mimetype": "text/x-python",
   "name": "python",
   "nbconvert_exporter": "python",
   "pygments_lexer": "ipython3",
   "version": "3.7.1"
  }
 },
 "nbformat": 4,
 "nbformat_minor": 2
}
